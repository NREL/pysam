{
 "cells": [
  {
   "cell_type": "markdown",
   "id": "b0ecceb8",
   "metadata": {},
   "source": [
    "# Pvsamv1Tools Examples\n",
    "\n",
    "These examples demonstrate how to use PySAM's `Pvsamv1Tools` to size a system and access module and inverter parameters from the System Advisor Model (SAM) libraries, and how to use `ResourceTools` to download a weather file from the NREL National Solar Radiation Databse (NSRDB) and use it for a `Pvsamv1` simulation."
   ]
  },
  {
   "cell_type": "code",
   "execution_count": null,
   "id": "876a747c-744c-4b6d-b464-d8caeec98c5a",
   "metadata": {},
   "outputs": [],
   "source": [
    "import PySAM\n",
    "import PySAM.Pvsamv1 as pv\n",
    "import PySAM.Pvsamv1Tools as pvtools\n",
    "import PySAM.ResourceTools as resourcetools\n",
    "print(PySAM.__version__)"
   ]
  },
  {
   "cell_type": "markdown",
   "id": "034f2e89",
   "metadata": {},
   "source": [
    "## Use ResourceTools to download a weather file: FetchResourceFiles()\n",
    "\n",
    "This function downloads weather files from the NREL National Solar Radiation Database (NSRDB). In this example, we are downloading a file for a single location and storing it in the current folder to use in the next example.\n",
    "\n",
    "Register on the NREL Developer Network to get an NREL API key: https://developer.nrel.gov/signup/ and replace `DEMO_KEY` and `test_email.email.org` with your key and email address. `DEMO_KEY` only allows limited access to the API for testing."
   ]
  },
  {
   "cell_type": "code",
   "execution_count": null,
   "id": "0ea67d44",
   "metadata": {},
   "outputs": [],
   "source": [
    "nsrdb_get = resourcetools.FetchResourceFiles( tech='solar', nrel_api_key='DEMO_KEY', nrel_api_email='test_email@email.org', resource_dir='.' )\n",
    "lat_lon = (-105.1,39.7)\n",
    "nsrdb_get.fetch([lat_lon]) # this can be a list of lat_lon to download files for multiple locations\n",
    "wf_path = nsrdb_get.resource_file_paths_dict[lat_lon]\n",
    "print(wf_path)"
   ]
  },
  {
   "cell_type": "markdown",
   "id": "32239831",
   "metadata": {},
   "source": [
    "## Run a simulation for the Default Detailed PV - Single Owner configuration\n",
    "\n",
    "Run a simulation for the defaults using the weather file we just downloaded to get a baseline annual output to compare with the next set of examples.\n",
    "\n",
    "See https://nrel-pysam.readthedocs.io/en/main/sam-configurations.html#detailed-pv-model-single-owner for a description of the configuration. You can use the approach in this example for other PV and PV-Battery configurations."
   ]
  },
  {
   "cell_type": "code",
   "execution_count": null,
   "id": "2ac0484b-5598-42f9-b0df-cb525326b62d",
   "metadata": {},
   "outputs": [],
   "source": [
    "model = pv.default('FlatPlatePVSingleOwner')\n",
    "model.SolarResource.solar_resource_file = wf_path\n",
    "model.value('analysis_period', 1)\n",
    "model.execute()\n",
    "print(model.Outputs.annual_energy)"
   ]
  },
  {
   "cell_type": "markdown",
   "id": "8f1b9241",
   "metadata": {},
   "source": [
    "## Use Pvsamv1Tools to size the system: size_electrical_parameters()\n",
    "\n",
    "This function sizes the PV system given a target system capacity in kW, target DC/AC ratio with optional maximum inverter DC voltage, inverter number of inputs (up to four), and maximum number of combiner boxes. (Note that SAM's PV sizing code on the System Design page does not account for the number of combiner boxes.)\n",
    "\n",
    "For this example, we are sizing a 130,000 kWdc system with a DC/AC ratio of 1.2."
   ]
  },
  {
   "cell_type": "code",
   "execution_count": null,
   "id": "0b92e5d7-f5fc-4bcb-a2f9-6fe04fada66f",
   "metadata": {},
   "outputs": [],
   "source": [
    "n_strings, n_combiners, n_inverters, calculated_system_capacity = pvtools.size_electrical_parameters(model, 130000, 1.2)\n",
    "print(calculated_system_capacity)\n",
    "print(n_strings)\n",
    "print(n_inverters)\n",
    "print(n_combiners)\n",
    "print(model.value('inverter_count'))\n",
    "model.execute()\n",
    "print(model.Outputs.annual_energy)"
   ]
  },
  {
   "cell_type": "markdown",
   "id": "b27515d2",
   "metadata": {},
   "source": [
    "## Choose a module from SAM's CEC Module library: set_cec_module_library_selection()\n",
    "\n",
    "This function downloads the latest version of the CSV file that stores SAM's CEC module library parameters from the SAM GitHub repository, and then sets the parameters for the Pvsamv1 `CECPerformanceModelWithModuleDatabase` group to values for the appropriate module from the library.\n",
    "\n",
    "This requires that you look up the module name in the \"Name\" column of the CSV file for the module you want to select. In this example, we are downloading parameters for a module with the name \"AIMS POWER PV555MONO\".\n",
    "\n",
    "https://github.com/NREL/SAM/blob/patch/deploy/libraries/CEC%20Modules.csv"
   ]
  },
  {
   "cell_type": "code",
   "execution_count": null,
   "id": "797a492b-29f1-4117-9953-c30bf8b52120",
   "metadata": {},
   "outputs": [],
   "source": [
    "model.value('module_model',1)\n",
    "mod_dict = pvtools.set_cec_module_library_selection(model, \"AIMS Power PV555MONO\")\n",
    "print(mod_dict)\n",
    "print(model.value(\"cec_v_mp_ref\"))"
   ]
  },
  {
   "cell_type": "markdown",
   "id": "7a594d2b",
   "metadata": {},
   "source": [
    "## Choose an inverter from SAM's CEC Inverter library: set_cec_inverter_library_selection()\n",
    "\n",
    "This function downloads the latest version of the CSV file that stores SAM's CEC inverter library parameters from the SAM GitHub repository, and then sets the parameters for the Pvsamv1 `InverterCECDatabase` group to values for the appropriate inverter from the library.\n",
    "\n",
    "This requires that you look up the inverter name in the \"Name\" column of the CSV file for the inverter you want to select. In this example, we are downloading parameters for an inverter with the name \"NEXTRACKER LLC: NXPCS3340K-HUD [800V]\".\n",
    "\n",
    "https://github.com/NREL/SAM/blob/patch/deploy/libraries/CEC%2Inverers.csv"
   ]
  },
  {
   "cell_type": "code",
   "execution_count": null,
   "id": "69a5ab17-f219-4364-9c6d-4c39eb83aa02",
   "metadata": {},
   "outputs": [],
   "source": [
    "inv_dict = pvtools.set_cec_inverter_library_selection(model, \"NEXTRACKER LLC: NXPCS3340K-HUD [800V]\")\n",
    "print(inv_dict)\n",
    "print(model.value(\"inv_snl_paco\"))"
   ]
  },
  {
   "cell_type": "markdown",
   "id": "83a646de",
   "metadata": {},
   "source": [
    "## Run Pvsamv1 with new module and inverter"
   ]
  },
  {
   "cell_type": "code",
   "execution_count": null,
   "id": "55d386d3-1de4-4b73-9f22-ee9cd93d5ae8",
   "metadata": {},
   "outputs": [],
   "source": [
    "model.value('inverter_model', 0)\n",
    "n_strings, n_combiners, n_inverters, calculated_system_capacity = pvtools.size_electrical_parameters(model, 130000, 1.2)\n",
    "print(calculated_system_capacity)\n",
    "print(n_strings)\n",
    "print(n_inverters)\n",
    "print(model.value('inverter_count'))\n",
    "print(model.value('cec_v_mp_ref'))\n",
    "print(model.value('cec_i_mp_ref'))\n",
    "print(model.value('subarray1_modules_per_string'))\n",
    "model.execute()\n",
    "print(model.Outputs.annual_energy)"
   ]
  }
 ],
 "metadata": {
  "kernelspec": {
   "display_name": "pysam-dev",
   "language": "python",
   "name": "python3"
  },
  "language_info": {
   "codemirror_mode": {
    "name": "ipython",
    "version": 3
   },
   "file_extension": ".py",
   "mimetype": "text/x-python",
   "name": "python",
   "nbconvert_exporter": "python",
   "pygments_lexer": "ipython3",
   "version": "3.12.9"
  }
 },
 "nbformat": 4,
 "nbformat_minor": 5
}
