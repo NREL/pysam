{
 "cells": [
  {
   "cell_type": "code",
   "execution_count": 1,
   "id": "79a8ae7a",
   "metadata": {},
   "outputs": [],
   "source": [
    "import datetime\n",
    "import greenbutton_objects\n",
    "import greenbutton_objects.parse\n",
    "import pandas as pd"
   ]
  },
  {
   "cell_type": "code",
   "execution_count": 9,
   "id": "74ee2ec1",
   "metadata": {},
   "outputs": [],
   "source": [
    "filename = r'C:\\Users\\bmirletz\\source\\repos\\sam_dev\\pysam\\Examples\\green_button_data_example\\XCEL_Electric_15_Minute_08-31-2022_03-25-2025.xml'\n",
    "#filename = r'C:\\Users\\bmirletz\\source\\repos\\sam_dev\\pysam\\Examples\\green_button_data_example\\XCEL_Electric_15_Minute_11-13-2024_06-03-2025.xml'\n",
    "\n",
    "data = greenbutton_objects.parse.parse_feed(filename)\n"
   ]
  },
  {
   "cell_type": "code",
   "execution_count": 11,
   "id": "cc47bad5",
   "metadata": {},
   "outputs": [
    {
     "name": "stdout",
     "output_type": "stream",
     "text": [
      "2022-09-01 00:00:00+00:00\n",
      "<IntervalBlock (Interval Block)>\n"
     ]
    }
   ],
   "source": [
    "mr = list(data[0].meterReadings)[0]\n",
    "print(mr.intervalBlocks[0].intervalReadings[0].timePeriod.start)\n",
    "print(mr.intervalBlocks[0])"
   ]
  },
  {
   "cell_type": "code",
   "execution_count": 12,
   "id": "1c79c113",
   "metadata": {},
   "outputs": [],
   "source": [
    "df = pd.DataFrame.from_dict(mr.intervalBlocks[0].intervalReadings[:])"
   ]
  },
  {
   "cell_type": "code",
   "execution_count": 13,
   "id": "a97d245e",
   "metadata": {},
   "outputs": [],
   "source": [
    "# Adapted from https://github.com/JenDobson/greenbutton/tree/master/greenbutton\n",
    "\n",
    "def parse_reading(interval_reading):\n",
    "    start = interval_reading.timePeriod.start\n",
    "    duration = interval_reading.timePeriod.duration\n",
    "    value = int(interval_reading.value)\n",
    "    return (start, duration, value)"
   ]
  },
  {
   "cell_type": "code",
   "execution_count": 16,
   "id": "2ac7d265",
   "metadata": {},
   "outputs": [],
   "source": [
    "readings = []\n",
    "\n",
    "for interval_reading in mr.intervalBlocks[0].intervalReadings:\n",
    "    readings.append(parse_reading(interval_reading))\n",
    "\n",
    "df = pd.DataFrame(readings,columns=['Start Time','Duration','Wh'])\n",
    "df = df.set_index('Start Time')"
   ]
  },
  {
   "cell_type": "code",
   "execution_count": 17,
   "id": "2a108720",
   "metadata": {},
   "outputs": [
    {
     "name": "stdout",
     "output_type": "stream",
     "text": [
      "                                 Duration   Wh\n",
      "Start Time                                    \n",
      "2023-01-31 00:00:00+00:00 0 days 00:15:00  430\n"
     ]
    },
    {
     "name": "stderr",
     "output_type": "stream",
     "text": [
      "C:\\Users\\bmirletz\\AppData\\Local\\Temp\\1\\ipykernel_22752\\129028776.py:2: FutureWarning: 'm' is deprecated and will be removed in a future version, please use 'ME' instead.\n",
      "  df_23 = df_23.asfreq(freq='15m',  method='pad')\n"
     ]
    }
   ],
   "source": [
    "df_23 = df.loc['2023-01-01':'2023-12-31']\n",
    "df_23 = df_23.asfreq(freq='15m',  method='pad')\n",
    "print(df_23)"
   ]
  },
  {
   "cell_type": "code",
   "execution_count": 19,
   "id": "e55fa809",
   "metadata": {},
   "outputs": [
    {
     "name": "stdout",
     "output_type": "stream",
     "text": [
      "                                 Duration    Wh\n",
      "2022-12-31 00:00:00+00:00 0 days 00:15:00  1036\n",
      "2022-12-31 00:15:00+00:00 0 days 00:15:00   639\n",
      "2022-12-31 00:30:00+00:00 0 days 00:15:00   176\n",
      "2022-12-31 00:45:00+00:00 0 days 00:15:00   192\n",
      "2022-12-31 01:00:00+00:00 0 days 00:15:00   157\n",
      "...                                   ...   ...\n",
      "2024-01-01 22:45:00+00:00 0 days 00:15:00    77\n",
      "2024-01-01 23:00:00+00:00 0 days 00:15:00   104\n",
      "2024-01-01 23:15:00+00:00 0 days 00:15:00    78\n",
      "2024-01-01 23:30:00+00:00 0 days 00:15:00   132\n",
      "2024-01-01 23:45:00+00:00 0 days 00:15:00   114\n",
      "\n",
      "[35232 rows x 2 columns]\n"
     ]
    }
   ],
   "source": [
    "df_23 = df.loc['2022-12-31':'2024-01-01']\n",
    "idx = pd.period_range(min(df_23.index), max(df_23.index), freq='15min')\n",
    "df_23 = df_23.reindex(idx.astype('datetime64[ns, UTC]'), method='nearest')\n",
    "print(df_23.loc['2022-12-31':'2024-01-01'])"
   ]
  },
  {
   "cell_type": "code",
   "execution_count": 23,
   "id": "49b9a472",
   "metadata": {},
   "outputs": [
    {
     "name": "stdout",
     "output_type": "stream",
     "text": [
      "35040\n"
     ]
    }
   ],
   "source": [
    "kW_data = df_23.loc['2023-01-01 07:00:00':'2024-01-01 06:59:00']['Wh'] / 250.0\n",
    "print(len(kW_data))\n",
    "kW_data.to_csv('15_min_load.csv')\n"
   ]
  },
  {
   "cell_type": "code",
   "execution_count": 24,
   "id": "4534f881",
   "metadata": {},
   "outputs": [],
   "source": [
    "hourly_data = [0] * 8760\n",
    "for i, v in enumerate(df_23.loc['2023-01-01 07:00:00':'2024-01-01 06:59:00']['Wh'].values):\n",
    "    hourly_data[int(i / 4)] += v / 1000.0"
   ]
  },
  {
   "cell_type": "code",
   "execution_count": 27,
   "id": "25d7baa8",
   "metadata": {},
   "outputs": [
    {
     "name": "stdout",
     "output_type": "stream",
     "text": [
      "8760\n"
     ]
    }
   ],
   "source": [
    "print(len(hourly_data))"
   ]
  },
  {
   "cell_type": "code",
   "execution_count": 28,
   "id": "dad9d3c4",
   "metadata": {},
   "outputs": [],
   "source": [
    "idx = range(0, 8760)\n",
    "df_hrly = pd.DataFrame.from_dict({'time' : idx, 'kW' : hourly_data})\n",
    "df_hrly.to_csv('hourly_load.csv')"
   ]
  }
 ],
 "metadata": {
  "kernelspec": {
   "display_name": "green_button_tests",
   "language": "python",
   "name": "python3"
  },
  "language_info": {
   "codemirror_mode": {
    "name": "ipython",
    "version": 3
   },
   "file_extension": ".py",
   "mimetype": "text/x-python",
   "name": "python",
   "nbconvert_exporter": "python",
   "pygments_lexer": "ipython3",
   "version": "3.12.9"
  }
 },
 "nbformat": 4,
 "nbformat_minor": 5
}
